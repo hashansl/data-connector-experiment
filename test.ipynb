{
 "cells": [
  {
   "cell_type": "code",
   "execution_count": 1,
   "metadata": {},
   "outputs": [],
   "source": [
    "from facebook_business.api import FacebookAdsApi\n",
    "from facebook_business.adobjects.adaccount import AdAccount\n",
    "from facebook_business.adobjects.adsinsights import AdsInsights"
   ]
  },
  {
   "cell_type": "code",
   "execution_count": null,
   "metadata": {},
   "outputs": [],
   "source": [
    "# Your access token, app id, app secret, and ad account ID\n",
    "access_token = 'YOUR_ACCESS_TOKEN'\n",
    "app_id = 'YOUR_APP_ID'\n",
    "app_secret = 'YOUR_APP_SECRET'\n",
    "ad_account_id = 'act_YOUR_AD_ACCOUNT_ID'"
   ]
  },
  {
   "cell_type": "code",
   "execution_count": null,
   "metadata": {},
   "outputs": [],
   "source": [
    "# Initialize API\n",
    "FacebookAdsApi.init(access_token=access_token)"
   ]
  },
  {
   "cell_type": "code",
   "execution_count": null,
   "metadata": {},
   "outputs": [],
   "source": [
    "# Get ad account\n",
    "ad_account = AdAccount(ad_account_id)"
   ]
  },
  {
   "cell_type": "code",
   "execution_count": null,
   "metadata": {},
   "outputs": [],
   "source": [
    "# Define the parameters for the insights (metrics and date range)\n",
    "params = {\n",
    "    'date_preset': 'last_30d',\n",
    "    'fields': [\n",
    "        AdsInsights.Field.campaign_name,\n",
    "        AdsInsights.Field.impressions,\n",
    "        AdsInsights.Field.clicks,\n",
    "        AdsInsights.Field.spend,\n",
    "        AdsInsights.Field.conversions,\n",
    "        AdsInsights.Field.reach\n",
    "    ]\n",
    "}"
   ]
  },
  {
   "cell_type": "code",
   "execution_count": null,
   "metadata": {},
   "outputs": [],
   "source": [
    "# Get insights (ad performance data)\n",
    "insights = ad_account.get_insights(params=params)"
   ]
  },
  {
   "cell_type": "code",
   "execution_count": null,
   "metadata": {},
   "outputs": [],
   "source": [
    "# Print insights data\n",
    "for insight in insights:\n",
    "    print(insight)"
   ]
  }
 ],
 "metadata": {
  "kernelspec": {
   "display_name": "DSE",
   "language": "python",
   "name": "python3"
  },
  "language_info": {
   "codemirror_mode": {
    "name": "ipython",
    "version": 3
   },
   "file_extension": ".py",
   "mimetype": "text/x-python",
   "name": "python",
   "nbconvert_exporter": "python",
   "pygments_lexer": "ipython3",
   "version": "3.11.10"
  }
 },
 "nbformat": 4,
 "nbformat_minor": 2
}
